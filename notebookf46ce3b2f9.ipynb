{
  "metadata": {
    "kernelspec": {
      "language": "python",
      "display_name": "Python 3",
      "name": "python3"
    },
    "language_info": {
      "pygments_lexer": "ipython3",
      "nbconvert_exporter": "python",
      "version": "3.6.4",
      "file_extension": ".py",
      "codemirror_mode": {
        "name": "ipython",
        "version": 3
      },
      "name": "python",
      "mimetype": "text/x-python"
    },
    "kaggle": {
      "accelerator": "none",
      "dataSources": [
        {
          "sourceId": 8140416,
          "sourceType": "datasetVersion",
          "datasetId": 4812840
        }
      ],
      "isInternetEnabled": false,
      "language": "python",
      "sourceType": "notebook",
      "isGpuEnabled": false
    },
    "colab": {
      "name": "notebookf46ce3b2f9",
      "provenance": [],
      "include_colab_link": true
    }
  },
  "nbformat_minor": 0,
  "nbformat": 4,
  "cells": [
    {
      "cell_type": "markdown",
      "metadata": {
        "id": "view-in-github",
        "colab_type": "text"
      },
      "source": [
        "<a href=\"https://colab.research.google.com/github/SrijaG29/Email_spam_classification/blob/main/notebookf46ce3b2f9.ipynb\" target=\"_parent\"><img src=\"https://colab.research.google.com/assets/colab-badge.svg\" alt=\"Open In Colab\"/></a>"
      ]
    },
    {
      "source": [
        "\n",
        "# IMPORTANT: RUN THIS CELL IN ORDER TO IMPORT YOUR KAGGLE DATA SOURCES\n",
        "# TO THE CORRECT LOCATION (/kaggle/input) IN YOUR NOTEBOOK,\n",
        "# THEN FEEL FREE TO DELETE THIS CELL.\n",
        "# NOTE: THIS NOTEBOOK ENVIRONMENT DIFFERS FROM KAGGLE'S PYTHON\n",
        "# ENVIRONMENT SO THERE MAY BE MISSING LIBRARIES USED BY YOUR\n",
        "# NOTEBOOK.\n",
        "\n",
        "import os\n",
        "import sys\n",
        "from tempfile import NamedTemporaryFile\n",
        "from urllib.request import urlopen\n",
        "from urllib.parse import unquote, urlparse\n",
        "from urllib.error import HTTPError\n",
        "from zipfile import ZipFile\n",
        "import tarfile\n",
        "import shutil\n",
        "\n",
        "CHUNK_SIZE = 40960\n",
        "DATA_SOURCE_MAPPING = 'email-classification-ham-spam:https%3A%2F%2Fstorage.googleapis.com%2Fkaggle-data-sets%2F4812840%2F8140416%2Fbundle%2Farchive.zip%3FX-Goog-Algorithm%3DGOOG4-RSA-SHA256%26X-Goog-Credential%3Dgcp-kaggle-com%2540kaggle-161607.iam.gserviceaccount.com%252F20240911%252Fauto%252Fstorage%252Fgoog4_request%26X-Goog-Date%3D20240911T055109Z%26X-Goog-Expires%3D259200%26X-Goog-SignedHeaders%3Dhost%26X-Goog-Signature%3D21a321fca2f87017b8301e242c544d2d1f05cdcdce14fabd11f1af1fadf31a586d80fca5dead3c9d108bc82d5a1dd9708e895dfa6f754498cc00b41d2234ed9b83afd0d2464e2a1d64d23479baf540d645c50743ddf4b17285d7f36e46b979d3c30cc46f1f18f5eab3c48be18e3f140bccba4f3f6125170e8b8f29ff6695182b4057e324522307a5dfcd321aac6ce80122018b094ba6420a3dc773f735bb2c8cf551102488d3d909e096034f249df3f04cc530963bfb04a604b898f2876118d12927408caf5861902ef2f66bf7bc0fa408c175951bc7db96840467d044e971f2fa13b6ebde05a4e6e137f2bcea26efc80cc61688cfb893c30ab6c1ffc6dffe37'\n",
        "\n",
        "KAGGLE_INPUT_PATH='/kaggle/input'\n",
        "KAGGLE_WORKING_PATH='/kaggle/working'\n",
        "KAGGLE_SYMLINK='kaggle'\n",
        "\n",
        "!umount /kaggle/input/ 2> /dev/null\n",
        "shutil.rmtree('/kaggle/input', ignore_errors=True)\n",
        "os.makedirs(KAGGLE_INPUT_PATH, 0o777, exist_ok=True)\n",
        "os.makedirs(KAGGLE_WORKING_PATH, 0o777, exist_ok=True)\n",
        "\n",
        "try:\n",
        "  os.symlink(KAGGLE_INPUT_PATH, os.path.join(\"..\", 'input'), target_is_directory=True)\n",
        "except FileExistsError:\n",
        "  pass\n",
        "try:\n",
        "  os.symlink(KAGGLE_WORKING_PATH, os.path.join(\"..\", 'working'), target_is_directory=True)\n",
        "except FileExistsError:\n",
        "  pass\n",
        "\n",
        "for data_source_mapping in DATA_SOURCE_MAPPING.split(','):\n",
        "    directory, download_url_encoded = data_source_mapping.split(':')\n",
        "    download_url = unquote(download_url_encoded)\n",
        "    filename = urlparse(download_url).path\n",
        "    destination_path = os.path.join(KAGGLE_INPUT_PATH, directory)\n",
        "    try:\n",
        "        with urlopen(download_url) as fileres, NamedTemporaryFile() as tfile:\n",
        "            total_length = fileres.headers['content-length']\n",
        "            print(f'Downloading {directory}, {total_length} bytes compressed')\n",
        "            dl = 0\n",
        "            data = fileres.read(CHUNK_SIZE)\n",
        "            while len(data) > 0:\n",
        "                dl += len(data)\n",
        "                tfile.write(data)\n",
        "                done = int(50 * dl / int(total_length))\n",
        "                sys.stdout.write(f\"\\r[{'=' * done}{' ' * (50-done)}] {dl} bytes downloaded\")\n",
        "                sys.stdout.flush()\n",
        "                data = fileres.read(CHUNK_SIZE)\n",
        "            if filename.endswith('.zip'):\n",
        "              with ZipFile(tfile) as zfile:\n",
        "                zfile.extractall(destination_path)\n",
        "            else:\n",
        "              with tarfile.open(tfile.name) as tarfile:\n",
        "                tarfile.extractall(destination_path)\n",
        "            print(f'\\nDownloaded and uncompressed: {directory}')\n",
        "    except HTTPError as e:\n",
        "        print(f'Failed to load (likely expired) {download_url} to path {destination_path}')\n",
        "        continue\n",
        "    except OSError as e:\n",
        "        print(f'Failed to load {download_url} to path {destination_path}')\n",
        "        continue\n",
        "\n",
        "print('Data source import complete.')\n"
      ],
      "metadata": {
        "colab": {
          "base_uri": "https://localhost:8080/"
        },
        "id": "PzCi5-jros_F",
        "outputId": "781b04d1-77e3-4119-90d3-356de105dadf"
      },
      "cell_type": "code",
      "outputs": [
        {
          "output_type": "stream",
          "name": "stdout",
          "text": [
            "Downloading email-classification-ham-spam, 4287 bytes compressed\n",
            "\r[==================================================] 4287 bytes downloaded\n",
            "Downloaded and uncompressed: email-classification-ham-spam\n",
            "Data source import complete.\n"
          ]
        }
      ],
      "execution_count": 2
    },
    {
      "cell_type": "code",
      "source": [
        "# This Python 3 environment comes with many helpful analytics libraries installed\n",
        "# It is defined by the kaggle/python Docker image: https://github.com/kaggle/docker-python\n",
        "# For example, here's several helpful packages to load\n",
        "\n",
        "import numpy as np # linear algebra\n",
        "import pandas as pd # data processing, CSV file I/O (e.g. pd.read_csv)\n",
        "\n",
        "# Input data files are available in the read-only \"../input/\" directory\n",
        "# For example, running this (by clicking run or pressing Shift+Enter) will list all files under the input directory\n",
        "\n",
        "import os\n",
        "for dirname, _, filenames in os.walk('/kaggle/input'):\n",
        "    for filename in filenames:\n",
        "        print(os.path.join(dirname, filename))\n",
        "\n",
        "# You can write up to 20GB to the current directory (/kaggle/working/) that gets preserved as output when you create a version using \"Save & Run All\"\n",
        "# You can also write temporary files to /kaggle/temp/, but they won't be saved outside of the current session"
      ],
      "metadata": {
        "_uuid": "8f2839f25d086af736a60e9eeb907d3b93b6e0e5",
        "_cell_guid": "b1076dfc-b9ad-4769-8c92-a6c4dae69d19",
        "trusted": true,
        "colab": {
          "base_uri": "https://localhost:8080/"
        },
        "id": "Hb3lojcZos_H",
        "outputId": "ffc1aaf4-c2ad-48f2-b0a5-3bbb34036abf"
      },
      "execution_count": 3,
      "outputs": [
        {
          "output_type": "stream",
          "name": "stdout",
          "text": [
            "/kaggle/input/email-classification-ham-spam/email_classification.csv\n"
          ]
        }
      ]
    },
    {
      "cell_type": "code",
      "source": [
        "!pip install pyspark"
      ],
      "metadata": {
        "colab": {
          "base_uri": "https://localhost:8080/"
        },
        "id": "frA2vhy7ovhV",
        "outputId": "00341f45-ca4a-44a8-f172-8a4293790bdc"
      },
      "execution_count": 4,
      "outputs": [
        {
          "output_type": "stream",
          "name": "stdout",
          "text": [
            "Collecting pyspark\n",
            "  Downloading pyspark-3.5.2.tar.gz (317.3 MB)\n",
            "\u001b[2K     \u001b[90m━━━━━━━━━━━━━━━━━━━━━━━━━━━━━━━━━━━━━━━━\u001b[0m \u001b[32m317.3/317.3 MB\u001b[0m \u001b[31m4.7 MB/s\u001b[0m eta \u001b[36m0:00:00\u001b[0m\n",
            "\u001b[?25h  Preparing metadata (setup.py) ... \u001b[?25l\u001b[?25hdone\n",
            "Requirement already satisfied: py4j==0.10.9.7 in /usr/local/lib/python3.10/dist-packages (from pyspark) (0.10.9.7)\n",
            "Building wheels for collected packages: pyspark\n",
            "  Building wheel for pyspark (setup.py) ... \u001b[?25l\u001b[?25hdone\n",
            "  Created wheel for pyspark: filename=pyspark-3.5.2-py2.py3-none-any.whl size=317812365 sha256=becd123374ce885f9b953282d977dba56050b00c6313e6637225037c102bebe1\n",
            "  Stored in directory: /root/.cache/pip/wheels/34/34/bd/03944534c44b677cd5859f248090daa9fb27b3c8f8e5f49574\n",
            "Successfully built pyspark\n",
            "Installing collected packages: pyspark\n",
            "Successfully installed pyspark-3.5.2\n"
          ]
        }
      ]
    },
    {
      "cell_type": "code",
      "source": [
        "from pyspark.sql import SparkSession\n",
        "\n",
        "spark = (\n",
        "    SparkSession\n",
        "    .builder\n",
        "    .appName(\"Spam Classification\")\n",
        "    .getOrCreate()\n",
        ")"
      ],
      "metadata": {
        "id": "_Y2gudM-ozzp"
      },
      "execution_count": 5,
      "outputs": []
    },
    {
      "cell_type": "code",
      "source": [
        "email_df = spark.read.format('csv').option('header',True).load('/kaggle/input/email-classification-ham-spam/email_classification.csv')\n",
        "email_df.show(truncate = False)"
      ],
      "metadata": {
        "colab": {
          "base_uri": "https://localhost:8080/"
        },
        "id": "V6__dQg1o2eH",
        "outputId": "8a2e08ea-8522-4f6f-89dc-149dc5999f50"
      },
      "execution_count": 6,
      "outputs": [
        {
          "output_type": "stream",
          "name": "stdout",
          "text": [
            "+-------------------------------------------------------------------------------------------------+-----+\n",
            "|email                                                                                            |label|\n",
            "+-------------------------------------------------------------------------------------------------+-----+\n",
            "|Upgrade to our premium plan for exclusive access to premium content and features.                |ham  |\n",
            "|Happy holidays from our team! Wishing you joy and prosperity this season.                        |ham  |\n",
            "|We're hiring! Check out our career opportunities and join our dynamic team.                      |ham  |\n",
            "|Your Amazon account has been locked. Click here to verify your account information.              |spam |\n",
            "|Your opinion matters! Take our survey and help us enhance your experience.                       |ham  |\n",
            "|Your payment has been received. Thank you for your prompt transaction.                           |ham  |\n",
            "|Your email account storage is full. Click here to upgrade your account.                          |spam |\n",
            "|Dear [Name], thank you for subscribing to our newsletter. Here's your welcome gift!              |ham  |\n",
            "|Your account has been credited with loyalty points. Redeem them for exciting rewards!            |ham  |\n",
            "|You've been chosen for a free iPhone. Click here to claim your prize!                            |spam |\n",
            "|Don't miss out on our special offer! Sign up now and get a discount on your first purchase.      |ham  |\n",
            "|We're hiring interns for the summer. Apply now and gain valuable experience.                     |ham  |\n",
            "|You're pre-approved for a loan. Click here to apply now!                                         |spam |\n",
            "|We're thrilled to introduce our new collection. Shop now and enjoy exclusive discounts!          |ham  |\n",
            "|We're excited to announce our upcoming webinar series. Register now to reserve your spot!        |ham  |\n",
            "|We've added new features to our app based on your feedback. Update now!                          |ham  |\n",
            "|You're a winner! Click here to claim your exclusive prize.                                       |spam |\n",
            "|Your Facebook account has been hacked. Click here to secure your account.                        |spam |\n",
            "|Congratulations on reaching a new milestone! Here's to many more achievements.                   |ham  |\n",
            "|Congratulations! You've been selected for a job interview. Click here to schedule your interview.|spam |\n",
            "+-------------------------------------------------------------------------------------------------+-----+\n",
            "only showing top 20 rows\n",
            "\n"
          ]
        }
      ]
    },
    {
      "cell_type": "code",
      "source": [
        "email_df_pd = email_df.toPandas()\n",
        "email_df_pd"
      ],
      "metadata": {
        "colab": {
          "base_uri": "https://localhost:8080/",
          "height": 423
        },
        "id": "AkzugnlMo4A0",
        "outputId": "790dca1d-e6cf-4ffd-89ee-ecf22e604052"
      },
      "execution_count": 7,
      "outputs": [
        {
          "output_type": "execute_result",
          "data": {
            "text/plain": [
              "                                                 email label\n",
              "0    Upgrade to our premium plan for exclusive acce...   ham\n",
              "1    Happy holidays from our team! Wishing you joy ...   ham\n",
              "2    We're hiring! Check out our career opportuniti...   ham\n",
              "3    Your Amazon account has been locked. Click her...  spam\n",
              "4    Your opinion matters! Take our survey and help...   ham\n",
              "..                                                 ...   ...\n",
              "174  We're pleased to inform you that your refund h...   ham\n",
              "175  Get rich quick! Invest in our revolutionary ne...  spam\n",
              "176  Your free trial period is ending soon. Upgrade...   ham\n",
              "177  Your order is on its way! Track your shipment ...   ham\n",
              "178  Limited-time offer! Get 50% off on all purchas...  spam\n",
              "\n",
              "[179 rows x 2 columns]"
            ],
            "text/html": [
              "\n",
              "  <div id=\"df-7990c424-08c4-4966-9608-2514c449e11e\" class=\"colab-df-container\">\n",
              "    <div>\n",
              "<style scoped>\n",
              "    .dataframe tbody tr th:only-of-type {\n",
              "        vertical-align: middle;\n",
              "    }\n",
              "\n",
              "    .dataframe tbody tr th {\n",
              "        vertical-align: top;\n",
              "    }\n",
              "\n",
              "    .dataframe thead th {\n",
              "        text-align: right;\n",
              "    }\n",
              "</style>\n",
              "<table border=\"1\" class=\"dataframe\">\n",
              "  <thead>\n",
              "    <tr style=\"text-align: right;\">\n",
              "      <th></th>\n",
              "      <th>email</th>\n",
              "      <th>label</th>\n",
              "    </tr>\n",
              "  </thead>\n",
              "  <tbody>\n",
              "    <tr>\n",
              "      <th>0</th>\n",
              "      <td>Upgrade to our premium plan for exclusive acce...</td>\n",
              "      <td>ham</td>\n",
              "    </tr>\n",
              "    <tr>\n",
              "      <th>1</th>\n",
              "      <td>Happy holidays from our team! Wishing you joy ...</td>\n",
              "      <td>ham</td>\n",
              "    </tr>\n",
              "    <tr>\n",
              "      <th>2</th>\n",
              "      <td>We're hiring! Check out our career opportuniti...</td>\n",
              "      <td>ham</td>\n",
              "    </tr>\n",
              "    <tr>\n",
              "      <th>3</th>\n",
              "      <td>Your Amazon account has been locked. Click her...</td>\n",
              "      <td>spam</td>\n",
              "    </tr>\n",
              "    <tr>\n",
              "      <th>4</th>\n",
              "      <td>Your opinion matters! Take our survey and help...</td>\n",
              "      <td>ham</td>\n",
              "    </tr>\n",
              "    <tr>\n",
              "      <th>...</th>\n",
              "      <td>...</td>\n",
              "      <td>...</td>\n",
              "    </tr>\n",
              "    <tr>\n",
              "      <th>174</th>\n",
              "      <td>We're pleased to inform you that your refund h...</td>\n",
              "      <td>ham</td>\n",
              "    </tr>\n",
              "    <tr>\n",
              "      <th>175</th>\n",
              "      <td>Get rich quick! Invest in our revolutionary ne...</td>\n",
              "      <td>spam</td>\n",
              "    </tr>\n",
              "    <tr>\n",
              "      <th>176</th>\n",
              "      <td>Your free trial period is ending soon. Upgrade...</td>\n",
              "      <td>ham</td>\n",
              "    </tr>\n",
              "    <tr>\n",
              "      <th>177</th>\n",
              "      <td>Your order is on its way! Track your shipment ...</td>\n",
              "      <td>ham</td>\n",
              "    </tr>\n",
              "    <tr>\n",
              "      <th>178</th>\n",
              "      <td>Limited-time offer! Get 50% off on all purchas...</td>\n",
              "      <td>spam</td>\n",
              "    </tr>\n",
              "  </tbody>\n",
              "</table>\n",
              "<p>179 rows × 2 columns</p>\n",
              "</div>\n",
              "    <div class=\"colab-df-buttons\">\n",
              "\n",
              "  <div class=\"colab-df-container\">\n",
              "    <button class=\"colab-df-convert\" onclick=\"convertToInteractive('df-7990c424-08c4-4966-9608-2514c449e11e')\"\n",
              "            title=\"Convert this dataframe to an interactive table.\"\n",
              "            style=\"display:none;\">\n",
              "\n",
              "  <svg xmlns=\"http://www.w3.org/2000/svg\" height=\"24px\" viewBox=\"0 -960 960 960\">\n",
              "    <path d=\"M120-120v-720h720v720H120Zm60-500h600v-160H180v160Zm220 220h160v-160H400v160Zm0 220h160v-160H400v160ZM180-400h160v-160H180v160Zm440 0h160v-160H620v160ZM180-180h160v-160H180v160Zm440 0h160v-160H620v160Z\"/>\n",
              "  </svg>\n",
              "    </button>\n",
              "\n",
              "  <style>\n",
              "    .colab-df-container {\n",
              "      display:flex;\n",
              "      gap: 12px;\n",
              "    }\n",
              "\n",
              "    .colab-df-convert {\n",
              "      background-color: #E8F0FE;\n",
              "      border: none;\n",
              "      border-radius: 50%;\n",
              "      cursor: pointer;\n",
              "      display: none;\n",
              "      fill: #1967D2;\n",
              "      height: 32px;\n",
              "      padding: 0 0 0 0;\n",
              "      width: 32px;\n",
              "    }\n",
              "\n",
              "    .colab-df-convert:hover {\n",
              "      background-color: #E2EBFA;\n",
              "      box-shadow: 0px 1px 2px rgba(60, 64, 67, 0.3), 0px 1px 3px 1px rgba(60, 64, 67, 0.15);\n",
              "      fill: #174EA6;\n",
              "    }\n",
              "\n",
              "    .colab-df-buttons div {\n",
              "      margin-bottom: 4px;\n",
              "    }\n",
              "\n",
              "    [theme=dark] .colab-df-convert {\n",
              "      background-color: #3B4455;\n",
              "      fill: #D2E3FC;\n",
              "    }\n",
              "\n",
              "    [theme=dark] .colab-df-convert:hover {\n",
              "      background-color: #434B5C;\n",
              "      box-shadow: 0px 1px 3px 1px rgba(0, 0, 0, 0.15);\n",
              "      filter: drop-shadow(0px 1px 2px rgba(0, 0, 0, 0.3));\n",
              "      fill: #FFFFFF;\n",
              "    }\n",
              "  </style>\n",
              "\n",
              "    <script>\n",
              "      const buttonEl =\n",
              "        document.querySelector('#df-7990c424-08c4-4966-9608-2514c449e11e button.colab-df-convert');\n",
              "      buttonEl.style.display =\n",
              "        google.colab.kernel.accessAllowed ? 'block' : 'none';\n",
              "\n",
              "      async function convertToInteractive(key) {\n",
              "        const element = document.querySelector('#df-7990c424-08c4-4966-9608-2514c449e11e');\n",
              "        const dataTable =\n",
              "          await google.colab.kernel.invokeFunction('convertToInteractive',\n",
              "                                                    [key], {});\n",
              "        if (!dataTable) return;\n",
              "\n",
              "        const docLinkHtml = 'Like what you see? Visit the ' +\n",
              "          '<a target=\"_blank\" href=https://colab.research.google.com/notebooks/data_table.ipynb>data table notebook</a>'\n",
              "          + ' to learn more about interactive tables.';\n",
              "        element.innerHTML = '';\n",
              "        dataTable['output_type'] = 'display_data';\n",
              "        await google.colab.output.renderOutput(dataTable, element);\n",
              "        const docLink = document.createElement('div');\n",
              "        docLink.innerHTML = docLinkHtml;\n",
              "        element.appendChild(docLink);\n",
              "      }\n",
              "    </script>\n",
              "  </div>\n",
              "\n",
              "\n",
              "<div id=\"df-73c543a1-0b9b-4343-9de7-1ce10b88f198\">\n",
              "  <button class=\"colab-df-quickchart\" onclick=\"quickchart('df-73c543a1-0b9b-4343-9de7-1ce10b88f198')\"\n",
              "            title=\"Suggest charts\"\n",
              "            style=\"display:none;\">\n",
              "\n",
              "<svg xmlns=\"http://www.w3.org/2000/svg\" height=\"24px\"viewBox=\"0 0 24 24\"\n",
              "     width=\"24px\">\n",
              "    <g>\n",
              "        <path d=\"M19 3H5c-1.1 0-2 .9-2 2v14c0 1.1.9 2 2 2h14c1.1 0 2-.9 2-2V5c0-1.1-.9-2-2-2zM9 17H7v-7h2v7zm4 0h-2V7h2v10zm4 0h-2v-4h2v4z\"/>\n",
              "    </g>\n",
              "</svg>\n",
              "  </button>\n",
              "\n",
              "<style>\n",
              "  .colab-df-quickchart {\n",
              "      --bg-color: #E8F0FE;\n",
              "      --fill-color: #1967D2;\n",
              "      --hover-bg-color: #E2EBFA;\n",
              "      --hover-fill-color: #174EA6;\n",
              "      --disabled-fill-color: #AAA;\n",
              "      --disabled-bg-color: #DDD;\n",
              "  }\n",
              "\n",
              "  [theme=dark] .colab-df-quickchart {\n",
              "      --bg-color: #3B4455;\n",
              "      --fill-color: #D2E3FC;\n",
              "      --hover-bg-color: #434B5C;\n",
              "      --hover-fill-color: #FFFFFF;\n",
              "      --disabled-bg-color: #3B4455;\n",
              "      --disabled-fill-color: #666;\n",
              "  }\n",
              "\n",
              "  .colab-df-quickchart {\n",
              "    background-color: var(--bg-color);\n",
              "    border: none;\n",
              "    border-radius: 50%;\n",
              "    cursor: pointer;\n",
              "    display: none;\n",
              "    fill: var(--fill-color);\n",
              "    height: 32px;\n",
              "    padding: 0;\n",
              "    width: 32px;\n",
              "  }\n",
              "\n",
              "  .colab-df-quickchart:hover {\n",
              "    background-color: var(--hover-bg-color);\n",
              "    box-shadow: 0 1px 2px rgba(60, 64, 67, 0.3), 0 1px 3px 1px rgba(60, 64, 67, 0.15);\n",
              "    fill: var(--button-hover-fill-color);\n",
              "  }\n",
              "\n",
              "  .colab-df-quickchart-complete:disabled,\n",
              "  .colab-df-quickchart-complete:disabled:hover {\n",
              "    background-color: var(--disabled-bg-color);\n",
              "    fill: var(--disabled-fill-color);\n",
              "    box-shadow: none;\n",
              "  }\n",
              "\n",
              "  .colab-df-spinner {\n",
              "    border: 2px solid var(--fill-color);\n",
              "    border-color: transparent;\n",
              "    border-bottom-color: var(--fill-color);\n",
              "    animation:\n",
              "      spin 1s steps(1) infinite;\n",
              "  }\n",
              "\n",
              "  @keyframes spin {\n",
              "    0% {\n",
              "      border-color: transparent;\n",
              "      border-bottom-color: var(--fill-color);\n",
              "      border-left-color: var(--fill-color);\n",
              "    }\n",
              "    20% {\n",
              "      border-color: transparent;\n",
              "      border-left-color: var(--fill-color);\n",
              "      border-top-color: var(--fill-color);\n",
              "    }\n",
              "    30% {\n",
              "      border-color: transparent;\n",
              "      border-left-color: var(--fill-color);\n",
              "      border-top-color: var(--fill-color);\n",
              "      border-right-color: var(--fill-color);\n",
              "    }\n",
              "    40% {\n",
              "      border-color: transparent;\n",
              "      border-right-color: var(--fill-color);\n",
              "      border-top-color: var(--fill-color);\n",
              "    }\n",
              "    60% {\n",
              "      border-color: transparent;\n",
              "      border-right-color: var(--fill-color);\n",
              "    }\n",
              "    80% {\n",
              "      border-color: transparent;\n",
              "      border-right-color: var(--fill-color);\n",
              "      border-bottom-color: var(--fill-color);\n",
              "    }\n",
              "    90% {\n",
              "      border-color: transparent;\n",
              "      border-bottom-color: var(--fill-color);\n",
              "    }\n",
              "  }\n",
              "</style>\n",
              "\n",
              "  <script>\n",
              "    async function quickchart(key) {\n",
              "      const quickchartButtonEl =\n",
              "        document.querySelector('#' + key + ' button');\n",
              "      quickchartButtonEl.disabled = true;  // To prevent multiple clicks.\n",
              "      quickchartButtonEl.classList.add('colab-df-spinner');\n",
              "      try {\n",
              "        const charts = await google.colab.kernel.invokeFunction(\n",
              "            'suggestCharts', [key], {});\n",
              "      } catch (error) {\n",
              "        console.error('Error during call to suggestCharts:', error);\n",
              "      }\n",
              "      quickchartButtonEl.classList.remove('colab-df-spinner');\n",
              "      quickchartButtonEl.classList.add('colab-df-quickchart-complete');\n",
              "    }\n",
              "    (() => {\n",
              "      let quickchartButtonEl =\n",
              "        document.querySelector('#df-73c543a1-0b9b-4343-9de7-1ce10b88f198 button');\n",
              "      quickchartButtonEl.style.display =\n",
              "        google.colab.kernel.accessAllowed ? 'block' : 'none';\n",
              "    })();\n",
              "  </script>\n",
              "</div>\n",
              "\n",
              "  <div id=\"id_6cf55fd1-cc81-425d-b0f4-621d082522d3\">\n",
              "    <style>\n",
              "      .colab-df-generate {\n",
              "        background-color: #E8F0FE;\n",
              "        border: none;\n",
              "        border-radius: 50%;\n",
              "        cursor: pointer;\n",
              "        display: none;\n",
              "        fill: #1967D2;\n",
              "        height: 32px;\n",
              "        padding: 0 0 0 0;\n",
              "        width: 32px;\n",
              "      }\n",
              "\n",
              "      .colab-df-generate:hover {\n",
              "        background-color: #E2EBFA;\n",
              "        box-shadow: 0px 1px 2px rgba(60, 64, 67, 0.3), 0px 1px 3px 1px rgba(60, 64, 67, 0.15);\n",
              "        fill: #174EA6;\n",
              "      }\n",
              "\n",
              "      [theme=dark] .colab-df-generate {\n",
              "        background-color: #3B4455;\n",
              "        fill: #D2E3FC;\n",
              "      }\n",
              "\n",
              "      [theme=dark] .colab-df-generate:hover {\n",
              "        background-color: #434B5C;\n",
              "        box-shadow: 0px 1px 3px 1px rgba(0, 0, 0, 0.15);\n",
              "        filter: drop-shadow(0px 1px 2px rgba(0, 0, 0, 0.3));\n",
              "        fill: #FFFFFF;\n",
              "      }\n",
              "    </style>\n",
              "    <button class=\"colab-df-generate\" onclick=\"generateWithVariable('email_df_pd')\"\n",
              "            title=\"Generate code using this dataframe.\"\n",
              "            style=\"display:none;\">\n",
              "\n",
              "  <svg xmlns=\"http://www.w3.org/2000/svg\" height=\"24px\"viewBox=\"0 0 24 24\"\n",
              "       width=\"24px\">\n",
              "    <path d=\"M7,19H8.4L18.45,9,17,7.55,7,17.6ZM5,21V16.75L18.45,3.32a2,2,0,0,1,2.83,0l1.4,1.43a1.91,1.91,0,0,1,.58,1.4,1.91,1.91,0,0,1-.58,1.4L9.25,21ZM18.45,9,17,7.55Zm-12,3A5.31,5.31,0,0,0,4.9,8.1,5.31,5.31,0,0,0,1,6.5,5.31,5.31,0,0,0,4.9,4.9,5.31,5.31,0,0,0,6.5,1,5.31,5.31,0,0,0,8.1,4.9,5.31,5.31,0,0,0,12,6.5,5.46,5.46,0,0,0,6.5,12Z\"/>\n",
              "  </svg>\n",
              "    </button>\n",
              "    <script>\n",
              "      (() => {\n",
              "      const buttonEl =\n",
              "        document.querySelector('#id_6cf55fd1-cc81-425d-b0f4-621d082522d3 button.colab-df-generate');\n",
              "      buttonEl.style.display =\n",
              "        google.colab.kernel.accessAllowed ? 'block' : 'none';\n",
              "\n",
              "      buttonEl.onclick = () => {\n",
              "        google.colab.notebook.generateWithVariable('email_df_pd');\n",
              "      }\n",
              "      })();\n",
              "    </script>\n",
              "  </div>\n",
              "\n",
              "    </div>\n",
              "  </div>\n"
            ],
            "application/vnd.google.colaboratory.intrinsic+json": {
              "type": "dataframe",
              "variable_name": "email_df_pd",
              "summary": "{\n  \"name\": \"email_df_pd\",\n  \"rows\": 179,\n  \"fields\": [\n    {\n      \"column\": \"email\",\n      \"properties\": {\n        \"dtype\": \"string\",\n        \"num_unique_values\": 150,\n        \"samples\": [\n          \"Congratulations! You're the lucky winner of our holiday giveaway. Click here to claim your prize!\",\n          \"Congratulations on reaching a new milestone! Here's to many more achievements.\",\n          \"We're excited to share our latest updates with you. Stay tuned for more news!\"\n        ],\n        \"semantic_type\": \"\",\n        \"description\": \"\"\n      }\n    },\n    {\n      \"column\": \"label\",\n      \"properties\": {\n        \"dtype\": \"category\",\n        \"num_unique_values\": 2,\n        \"samples\": [\n          \"spam\",\n          \"ham\"\n        ],\n        \"semantic_type\": \"\",\n        \"description\": \"\"\n      }\n    }\n  ]\n}"
            }
          },
          "metadata": {},
          "execution_count": 7
        }
      ]
    },
    {
      "cell_type": "code",
      "source": [
        "email_df_pd.isna().sum()"
      ],
      "metadata": {
        "colab": {
          "base_uri": "https://localhost:8080/",
          "height": 146
        },
        "id": "WDmUcMxmo53X",
        "outputId": "b727062f-c8e1-46f2-a1b6-a1f5123541fd"
      },
      "execution_count": 8,
      "outputs": [
        {
          "output_type": "execute_result",
          "data": {
            "text/plain": [
              "email    0\n",
              "label    0\n",
              "dtype: int64"
            ],
            "text/html": [
              "<div>\n",
              "<style scoped>\n",
              "    .dataframe tbody tr th:only-of-type {\n",
              "        vertical-align: middle;\n",
              "    }\n",
              "\n",
              "    .dataframe tbody tr th {\n",
              "        vertical-align: top;\n",
              "    }\n",
              "\n",
              "    .dataframe thead th {\n",
              "        text-align: right;\n",
              "    }\n",
              "</style>\n",
              "<table border=\"1\" class=\"dataframe\">\n",
              "  <thead>\n",
              "    <tr style=\"text-align: right;\">\n",
              "      <th></th>\n",
              "      <th>0</th>\n",
              "    </tr>\n",
              "  </thead>\n",
              "  <tbody>\n",
              "    <tr>\n",
              "      <th>email</th>\n",
              "      <td>0</td>\n",
              "    </tr>\n",
              "    <tr>\n",
              "      <th>label</th>\n",
              "      <td>0</td>\n",
              "    </tr>\n",
              "  </tbody>\n",
              "</table>\n",
              "</div><br><label><b>dtype:</b> int64</label>"
            ]
          },
          "metadata": {},
          "execution_count": 8
        }
      ]
    },
    {
      "cell_type": "code",
      "source": [
        "from pyspark.sql.functions import count,col\n",
        "email_df.groupBy('label').agg(count(col('email'))).show()"
      ],
      "metadata": {
        "colab": {
          "base_uri": "https://localhost:8080/"
        },
        "id": "U4KcuxEpo7zl",
        "outputId": "46f999e2-cddf-4ea3-a1e8-64c2cd7edf1f"
      },
      "execution_count": 9,
      "outputs": [
        {
          "output_type": "stream",
          "name": "stdout",
          "text": [
            "+-----+------------+\n",
            "|label|count(email)|\n",
            "+-----+------------+\n",
            "|  ham|         100|\n",
            "| spam|          79|\n",
            "+-----+------------+\n",
            "\n"
          ]
        }
      ]
    },
    {
      "cell_type": "code",
      "source": [
        "email_df_copy = email_df.select('*')\n",
        "email_df_copy.show()"
      ],
      "metadata": {
        "colab": {
          "base_uri": "https://localhost:8080/"
        },
        "id": "jnpi49eKpUT4",
        "outputId": "2156348b-7fb6-4e1c-e014-385b8c461743"
      },
      "execution_count": 10,
      "outputs": [
        {
          "output_type": "stream",
          "name": "stdout",
          "text": [
            "+--------------------+-----+\n",
            "|               email|label|\n",
            "+--------------------+-----+\n",
            "|Upgrade to our pr...|  ham|\n",
            "|Happy holidays fr...|  ham|\n",
            "|We're hiring! Che...|  ham|\n",
            "|Your Amazon accou...| spam|\n",
            "|Your opinion matt...|  ham|\n",
            "|Your payment has ...|  ham|\n",
            "|Your email accoun...| spam|\n",
            "|Dear [Name], than...|  ham|\n",
            "|Your account has ...|  ham|\n",
            "|You've been chose...| spam|\n",
            "|Don't miss out on...|  ham|\n",
            "|We're hiring inte...|  ham|\n",
            "|You're pre-approv...| spam|\n",
            "|We're thrilled to...|  ham|\n",
            "|We're excited to ...|  ham|\n",
            "|We've added new f...|  ham|\n",
            "|You're a winner! ...| spam|\n",
            "|Your Facebook acc...| spam|\n",
            "|Congratulations o...|  ham|\n",
            "|Congratulations! ...| spam|\n",
            "+--------------------+-----+\n",
            "only showing top 20 rows\n",
            "\n"
          ]
        }
      ]
    },
    {
      "cell_type": "code",
      "source": [
        "from pyspark.sql.functions import when,col\n",
        "\n",
        "email_df_copy = email_df_copy.withColumn('label',when(col('label')=='ham', 0).when(col('label')=='spam',1))\n",
        "email_df_copy.show()"
      ],
      "metadata": {
        "colab": {
          "base_uri": "https://localhost:8080/"
        },
        "id": "mVijg3m7phfr",
        "outputId": "1e4ac449-197f-40ea-f768-dfb0eecd059e"
      },
      "execution_count": 11,
      "outputs": [
        {
          "output_type": "stream",
          "name": "stdout",
          "text": [
            "+--------------------+-----+\n",
            "|               email|label|\n",
            "+--------------------+-----+\n",
            "|Upgrade to our pr...|    0|\n",
            "|Happy holidays fr...|    0|\n",
            "|We're hiring! Che...|    0|\n",
            "|Your Amazon accou...|    1|\n",
            "|Your opinion matt...|    0|\n",
            "|Your payment has ...|    0|\n",
            "|Your email accoun...|    1|\n",
            "|Dear [Name], than...|    0|\n",
            "|Your account has ...|    0|\n",
            "|You've been chose...|    1|\n",
            "|Don't miss out on...|    0|\n",
            "|We're hiring inte...|    0|\n",
            "|You're pre-approv...|    1|\n",
            "|We're thrilled to...|    0|\n",
            "|We're excited to ...|    0|\n",
            "|We've added new f...|    0|\n",
            "|You're a winner! ...|    1|\n",
            "|Your Facebook acc...|    1|\n",
            "|Congratulations o...|    0|\n",
            "|Congratulations! ...|    1|\n",
            "+--------------------+-----+\n",
            "only showing top 20 rows\n",
            "\n"
          ]
        }
      ]
    },
    {
      "cell_type": "code",
      "source": [
        "email_df_copy.printSchema()"
      ],
      "metadata": {
        "colab": {
          "base_uri": "https://localhost:8080/"
        },
        "id": "vqWZPd9QqAP1",
        "outputId": "8d463ee8-bebb-4719-d2cf-e9d7ae1e71d8"
      },
      "execution_count": 12,
      "outputs": [
        {
          "output_type": "stream",
          "name": "stdout",
          "text": [
            "root\n",
            " |-- email: string (nullable = true)\n",
            " |-- label: integer (nullable = true)\n",
            "\n"
          ]
        }
      ]
    },
    {
      "cell_type": "code",
      "source": [
        "from pyspark.ml.feature import StringIndexer\n",
        "\n",
        "label_indexer = StringIndexer(inputCol = 'label',outputCol= 'label_Encoded')\n",
        "\n",
        "label_model = label_indexer.fit(email_df_copy)\n",
        "email_df_copy = label_model.transform(email_df_copy)"
      ],
      "metadata": {
        "id": "b2YkEm-NqGpV"
      },
      "execution_count": 13,
      "outputs": []
    },
    {
      "cell_type": "code",
      "source": [
        "email_indexer = StringIndexer(inputCol = 'email',outputCol= 'email_Encoded')\n",
        "\n",
        "email_model = email_indexer.fit(email_df_copy)\n",
        "email_df_copy = email_model.transform(email_df_copy)"
      ],
      "metadata": {
        "id": "U-GD9UrhqrSe"
      },
      "execution_count": 14,
      "outputs": []
    },
    {
      "cell_type": "code",
      "source": [
        "email_df_copy.show()"
      ],
      "metadata": {
        "colab": {
          "base_uri": "https://localhost:8080/"
        },
        "id": "-yuy8EkTq1gM",
        "outputId": "ca0161bf-8a97-47c4-f7dd-819316b6ed42"
      },
      "execution_count": 15,
      "outputs": [
        {
          "output_type": "stream",
          "name": "stdout",
          "text": [
            "+--------------------+-----+-------------+-------------+\n",
            "|               email|label|label_Encoded|email_Encoded|\n",
            "+--------------------+-----+-------------+-------------+\n",
            "|Upgrade to our pr...|    0|          0.0|         74.0|\n",
            "|Happy holidays fr...|    0|          0.0|         51.0|\n",
            "|We're hiring! Che...|    0|          0.0|         97.0|\n",
            "|Your Amazon accou...|    1|          1.0|        123.0|\n",
            "|Your opinion matt...|    0|          0.0|        141.0|\n",
            "|Your payment has ...|    0|          0.0|        146.0|\n",
            "|Your email accoun...|    1|          1.0|         25.0|\n",
            "|Dear [Name], than...|    0|          0.0|         37.0|\n",
            "|Your account has ...|    0|          0.0|        130.0|\n",
            "|You've been chose...|    1|          1.0|         13.0|\n",
            "|Don't miss out on...|    0|          0.0|         44.0|\n",
            "|We're hiring inte...|    0|          0.0|         96.0|\n",
            "|You're pre-approv...|    1|          1.0|        119.0|\n",
            "|We're thrilled to...|    0|          0.0|        109.0|\n",
            "|We're excited to ...|    0|          0.0|         86.0|\n",
            "|We've added new f...|    0|          0.0|        110.0|\n",
            "|You're a winner! ...|    1|          1.0|        117.0|\n",
            "|Your Facebook acc...|    1|          1.0|         17.0|\n",
            "|Congratulations o...|    0|          0.0|         29.0|\n",
            "|Congratulations! ...|    1|          1.0|         34.0|\n",
            "+--------------------+-----+-------------+-------------+\n",
            "only showing top 20 rows\n",
            "\n"
          ]
        }
      ]
    },
    {
      "cell_type": "code",
      "source": [
        "model_input = email_df_copy.drop('email','label')\n",
        "model_input.show()"
      ],
      "metadata": {
        "colab": {
          "base_uri": "https://localhost:8080/"
        },
        "id": "V3EULOWoq4Ax",
        "outputId": "00532f1b-db59-436a-bea8-bd8482131d92"
      },
      "execution_count": 16,
      "outputs": [
        {
          "output_type": "stream",
          "name": "stdout",
          "text": [
            "+-------------+-------------+\n",
            "|label_Encoded|email_Encoded|\n",
            "+-------------+-------------+\n",
            "|          0.0|         74.0|\n",
            "|          0.0|         51.0|\n",
            "|          0.0|         97.0|\n",
            "|          1.0|        123.0|\n",
            "|          0.0|        141.0|\n",
            "|          0.0|        146.0|\n",
            "|          1.0|         25.0|\n",
            "|          0.0|         37.0|\n",
            "|          0.0|        130.0|\n",
            "|          1.0|         13.0|\n",
            "|          0.0|         44.0|\n",
            "|          0.0|         96.0|\n",
            "|          1.0|        119.0|\n",
            "|          0.0|        109.0|\n",
            "|          0.0|         86.0|\n",
            "|          0.0|        110.0|\n",
            "|          1.0|        117.0|\n",
            "|          1.0|         17.0|\n",
            "|          0.0|         29.0|\n",
            "|          1.0|         34.0|\n",
            "+-------------+-------------+\n",
            "only showing top 20 rows\n",
            "\n"
          ]
        }
      ]
    },
    {
      "cell_type": "code",
      "source": [
        "from pyspark.ml.feature import VectorAssembler\n",
        "\n",
        "assembler = VectorAssembler(inputCols = ['email_Encoded'],outputCol = 'Email_Details')\n",
        "model_input = assembler.transform(model_input)\n",
        "\n",
        "model_input.show()"
      ],
      "metadata": {
        "colab": {
          "base_uri": "https://localhost:8080/"
        },
        "id": "A6C1Pt1yrBDu",
        "outputId": "cd50e2c2-5d88-45b4-f3cf-55a05baa26d5"
      },
      "execution_count": 17,
      "outputs": [
        {
          "output_type": "stream",
          "name": "stdout",
          "text": [
            "+-------------+-------------+-------------+\n",
            "|label_Encoded|email_Encoded|Email_Details|\n",
            "+-------------+-------------+-------------+\n",
            "|          0.0|         74.0|       [74.0]|\n",
            "|          0.0|         51.0|       [51.0]|\n",
            "|          0.0|         97.0|       [97.0]|\n",
            "|          1.0|        123.0|      [123.0]|\n",
            "|          0.0|        141.0|      [141.0]|\n",
            "|          0.0|        146.0|      [146.0]|\n",
            "|          1.0|         25.0|       [25.0]|\n",
            "|          0.0|         37.0|       [37.0]|\n",
            "|          0.0|        130.0|      [130.0]|\n",
            "|          1.0|         13.0|       [13.0]|\n",
            "|          0.0|         44.0|       [44.0]|\n",
            "|          0.0|         96.0|       [96.0]|\n",
            "|          1.0|        119.0|      [119.0]|\n",
            "|          0.0|        109.0|      [109.0]|\n",
            "|          0.0|         86.0|       [86.0]|\n",
            "|          0.0|        110.0|      [110.0]|\n",
            "|          1.0|        117.0|      [117.0]|\n",
            "|          1.0|         17.0|       [17.0]|\n",
            "|          0.0|         29.0|       [29.0]|\n",
            "|          1.0|         34.0|       [34.0]|\n",
            "+-------------+-------------+-------------+\n",
            "only showing top 20 rows\n",
            "\n"
          ]
        }
      ]
    },
    {
      "cell_type": "code",
      "source": [
        "model_input = model_input.drop('email_Encoded')\n",
        "model_input.show()"
      ],
      "metadata": {
        "colab": {
          "base_uri": "https://localhost:8080/"
        },
        "id": "FSwiYWTBrhrg",
        "outputId": "51087c97-9bb9-4c2a-e666-81ca149cab0e"
      },
      "execution_count": 18,
      "outputs": [
        {
          "output_type": "stream",
          "name": "stdout",
          "text": [
            "+-------------+-------------+\n",
            "|label_Encoded|Email_Details|\n",
            "+-------------+-------------+\n",
            "|          0.0|       [74.0]|\n",
            "|          0.0|       [51.0]|\n",
            "|          0.0|       [97.0]|\n",
            "|          1.0|      [123.0]|\n",
            "|          0.0|      [141.0]|\n",
            "|          0.0|      [146.0]|\n",
            "|          1.0|       [25.0]|\n",
            "|          0.0|       [37.0]|\n",
            "|          0.0|      [130.0]|\n",
            "|          1.0|       [13.0]|\n",
            "|          0.0|       [44.0]|\n",
            "|          0.0|       [96.0]|\n",
            "|          1.0|      [119.0]|\n",
            "|          0.0|      [109.0]|\n",
            "|          0.0|       [86.0]|\n",
            "|          0.0|      [110.0]|\n",
            "|          1.0|      [117.0]|\n",
            "|          1.0|       [17.0]|\n",
            "|          0.0|       [29.0]|\n",
            "|          1.0|       [34.0]|\n",
            "+-------------+-------------+\n",
            "only showing top 20 rows\n",
            "\n"
          ]
        }
      ]
    },
    {
      "cell_type": "code",
      "source": [
        "train_data,test_data = model_input.randomSplit([0.75,0.25],seed = 42)"
      ],
      "metadata": {
        "id": "16czvXDFr40b"
      },
      "execution_count": 19,
      "outputs": []
    },
    {
      "cell_type": "code",
      "source": [
        "train_data.show()"
      ],
      "metadata": {
        "colab": {
          "base_uri": "https://localhost:8080/"
        },
        "id": "_L-96EEdsAbF",
        "outputId": "c0597809-7c69-451e-ae23-2a7d4522cdf7"
      },
      "execution_count": 20,
      "outputs": [
        {
          "output_type": "stream",
          "name": "stdout",
          "text": [
            "+-------------+-------------+\n",
            "|label_Encoded|Email_Details|\n",
            "+-------------+-------------+\n",
            "|          0.0|       [29.0]|\n",
            "|          0.0|       [30.0]|\n",
            "|          0.0|       [32.0]|\n",
            "|          0.0|       [35.0]|\n",
            "|          0.0|       [37.0]|\n",
            "|          0.0|       [39.0]|\n",
            "|          0.0|       [42.0]|\n",
            "|          0.0|       [43.0]|\n",
            "|          0.0|       [44.0]|\n",
            "|          0.0|       [47.0]|\n",
            "|          0.0|       [48.0]|\n",
            "|          0.0|       [50.0]|\n",
            "|          0.0|       [51.0]|\n",
            "|          0.0|       [52.0]|\n",
            "|          0.0|       [54.0]|\n",
            "|          0.0|       [57.0]|\n",
            "|          0.0|       [58.0]|\n",
            "|          0.0|       [60.0]|\n",
            "|          0.0|       [61.0]|\n",
            "|          0.0|       [62.0]|\n",
            "+-------------+-------------+\n",
            "only showing top 20 rows\n",
            "\n"
          ]
        }
      ]
    },
    {
      "cell_type": "code",
      "source": [
        "train_data.count()"
      ],
      "metadata": {
        "colab": {
          "base_uri": "https://localhost:8080/"
        },
        "id": "0-qgIWIgs8dk",
        "outputId": "ef7df748-8980-43d7-f962-c43986a7e2cc"
      },
      "execution_count": 21,
      "outputs": [
        {
          "output_type": "execute_result",
          "data": {
            "text/plain": [
              "140"
            ]
          },
          "metadata": {},
          "execution_count": 21
        }
      ]
    },
    {
      "cell_type": "code",
      "source": [
        "test_data.show()"
      ],
      "metadata": {
        "colab": {
          "base_uri": "https://localhost:8080/"
        },
        "id": "hRQ-pAOusClE",
        "outputId": "a065c4b0-2f4c-4268-b26a-8c0a02349c69"
      },
      "execution_count": 22,
      "outputs": [
        {
          "output_type": "stream",
          "name": "stdout",
          "text": [
            "+-------------+-------------+\n",
            "|label_Encoded|Email_Details|\n",
            "+-------------+-------------+\n",
            "|          0.0|       [31.0]|\n",
            "|          0.0|       [38.0]|\n",
            "|          0.0|       [40.0]|\n",
            "|          0.0|       [41.0]|\n",
            "|          0.0|       [46.0]|\n",
            "|          0.0|       [53.0]|\n",
            "|          0.0|       [59.0]|\n",
            "|          0.0|       [65.0]|\n",
            "|          0.0|       [66.0]|\n",
            "|          0.0|       [68.0]|\n",
            "|          0.0|       [70.0]|\n",
            "|          0.0|       [71.0]|\n",
            "|          0.0|       [79.0]|\n",
            "|          0.0|       [82.0]|\n",
            "|          0.0|       [83.0]|\n",
            "|          0.0|       [84.0]|\n",
            "|          0.0|       [86.0]|\n",
            "|          0.0|       [88.0]|\n",
            "|          0.0|       [92.0]|\n",
            "|          0.0|       [99.0]|\n",
            "+-------------+-------------+\n",
            "only showing top 20 rows\n",
            "\n"
          ]
        }
      ]
    },
    {
      "cell_type": "code",
      "source": [
        "test_data.count()"
      ],
      "metadata": {
        "colab": {
          "base_uri": "https://localhost:8080/"
        },
        "id": "hkqBvNDHs_Io",
        "outputId": "8e7a7a57-814e-4cb2-aca8-c12012871359"
      },
      "execution_count": 23,
      "outputs": [
        {
          "output_type": "execute_result",
          "data": {
            "text/plain": [
              "39"
            ]
          },
          "metadata": {},
          "execution_count": 23
        }
      ]
    },
    {
      "cell_type": "code",
      "source": [
        "from pyspark.ml.classification import LogisticRegression\n",
        "\n",
        "lr = LogisticRegression(featuresCol='Email_Details', labelCol='label_Encoded')\n",
        "lr_model = lr.fit(train_data)\n",
        "lr_predictions = lr_model.transform(test_data)\n"
      ],
      "metadata": {
        "id": "b563GugosoTS"
      },
      "execution_count": 24,
      "outputs": []
    },
    {
      "cell_type": "code",
      "source": [
        "lr_predictions.show()"
      ],
      "metadata": {
        "colab": {
          "base_uri": "https://localhost:8080/"
        },
        "id": "mJIm3yXAxAHt",
        "outputId": "0ac7e78c-0729-407c-ed29-c3b65355a184"
      },
      "execution_count": 65,
      "outputs": [
        {
          "output_type": "stream",
          "name": "stdout",
          "text": [
            "+-------------+-------------+--------------------+--------------------+----------+\n",
            "|label_Encoded|Email_Details|       rawPrediction|         probability|prediction|\n",
            "+-------------+-------------+--------------------+--------------------+----------+\n",
            "|          0.0|       [31.0]|[-0.8104176320022...|[0.30780150799094...|       1.0|\n",
            "|          0.0|       [38.0]|[-0.5901966285324...|[0.35658973986172...|       1.0|\n",
            "|          0.0|       [40.0]|[-0.5272763418267...|[0.37115236177818...|       1.0|\n",
            "|          0.0|       [41.0]|[-0.4958161984739...|[0.37852438025313...|       1.0|\n",
            "|          0.0|       [46.0]|[-0.3385154817097...|[0.41617012931490...|       1.0|\n",
            "|          0.0|       [53.0]|[-0.1182944782399...|[0.47046081899202...|       1.0|\n",
            "|          0.0|       [59.0]|[0.07046638187700...|[0.51760930947058...|       0.0|\n",
            "|          0.0|       [65.0]|[0.25922724199398...|[0.56444632128949...|       0.0|\n",
            "|          0.0|       [66.0]|[0.29068738534681...|[0.57216440791094...|       0.0|\n",
            "|          0.0|       [68.0]|[0.35360767205247...|[0.58749215574897...|       0.0|\n",
            "|          0.0|       [70.0]|[0.41652795875813...|[0.60265212310315...|       0.0|\n",
            "|          0.0|       [71.0]|[0.44798810211096...|[0.61016078085987...|       0.0|\n",
            "|          0.0|       [79.0]|[0.69966924893360...|[0.66811443632001...|       0.0|\n",
            "|          0.0|       [82.0]|[0.79404967899208...|[0.68870021308211...|       0.0|\n",
            "|          0.0|       [83.0]|[0.82550982234491...|[0.69540466915176...|       0.0|\n",
            "|          0.0|       [84.0]|[0.85696996569774...|[0.70202720484380...|       0.0|\n",
            "|          0.0|       [86.0]|[0.91989025240340...|[0.71501974334398...|       0.0|\n",
            "|          0.0|       [88.0]|[0.98281053910906...|[0.72766553263341...|       0.0|\n",
            "|          0.0|       [92.0]|[1.10865111252038...|[0.75187755160188...|       0.0|\n",
            "|          0.0|       [99.0]|[1.32887211599019...|[0.79065400834697...|       0.0|\n",
            "+-------------+-------------+--------------------+--------------------+----------+\n",
            "only showing top 20 rows\n",
            "\n"
          ]
        }
      ]
    },
    {
      "cell_type": "code",
      "source": [
        "from pyspark.ml.evaluation import MulticlassClassificationEvaluator\n",
        "\n",
        "evaluator = MulticlassClassificationEvaluator(labelCol='label_Encoded', predictionCol=\"prediction\", metricName=\"accuracy\")\n",
        "accuracy_lr = evaluator.evaluate(lr_predictions)\n",
        "print(f\"Accuracy for Logistic Classification is: {accuracy_lr}\")"
      ],
      "metadata": {
        "colab": {
          "base_uri": "https://localhost:8080/"
        },
        "id": "9s7G0fj7xDi7",
        "outputId": "b1375d54-b763-453e-f22f-6881e3f47204"
      },
      "execution_count": 26,
      "outputs": [
        {
          "output_type": "stream",
          "name": "stdout",
          "text": [
            "Accuracy for Logistic Classification is: 0.7948717948717948\n"
          ]
        }
      ]
    },
    {
      "cell_type": "code",
      "source": [
        "from pyspark.sql.types import StructField,StructType,StringType\n",
        "\n",
        "user_schema = StructType([StructField('email',StringType(),True)])"
      ],
      "metadata": {
        "id": "yHk6u6u9NgLR"
      },
      "execution_count": 66,
      "outputs": []
    },
    {
      "cell_type": "code",
      "source": [
        "details = [['Your Amazon account has been locked. Click here to verify your account information']]"
      ],
      "metadata": {
        "id": "TohHQkCoQUX5"
      },
      "execution_count": 67,
      "outputs": []
    },
    {
      "cell_type": "code",
      "source": [
        "input_details = spark.createDataFrame(details, schema=user_schema)\n",
        "input_details.show()"
      ],
      "metadata": {
        "colab": {
          "base_uri": "https://localhost:8080/"
        },
        "id": "IUNu96IXN44A",
        "outputId": "eb0799f5-204d-453f-d27f-a57d74959463"
      },
      "execution_count": 68,
      "outputs": [
        {
          "output_type": "stream",
          "name": "stdout",
          "text": [
            "+--------------------+\n",
            "|               email|\n",
            "+--------------------+\n",
            "|Your Amazon accou...|\n",
            "+--------------------+\n",
            "\n"
          ]
        }
      ]
    },
    {
      "cell_type": "code",
      "source": [
        "input_details = email_model.transform(input_details)"
      ],
      "metadata": {
        "id": "na2Yk1dLP7MA"
      },
      "execution_count": 69,
      "outputs": []
    },
    {
      "cell_type": "code",
      "source": [
        "input_details.printSchema()"
      ],
      "metadata": {
        "colab": {
          "base_uri": "https://localhost:8080/"
        },
        "id": "6UnT1Xu2QYJA",
        "outputId": "70612136-29d2-4a51-e3a5-bb258b0ab425"
      },
      "execution_count": 57,
      "outputs": [
        {
          "output_type": "stream",
          "name": "stdout",
          "text": [
            "root\n",
            " |-- email: string (nullable = true)\n",
            " |-- email_Encoded: double (nullable = false)\n",
            "\n"
          ]
        }
      ]
    },
    {
      "cell_type": "code",
      "source": [
        "from pyspark.ml.feature import VectorAssembler\n",
        "\n",
        "assembler = VectorAssembler(inputCols = ['email_Encoded'],outputCol = 'Email_Details')\n",
        "input_details = assembler.transform(input_details)"
      ],
      "metadata": {
        "id": "-S_6mVawYUVU"
      },
      "execution_count": null,
      "outputs": []
    },
    {
      "cell_type": "code",
      "source": [
        "input_details.printSchema()"
      ],
      "metadata": {
        "colab": {
          "base_uri": "https://localhost:8080/"
        },
        "id": "Zxe2qCUbYVXJ",
        "outputId": "c34dbb40-79f4-41ce-e6be-99683ef2277a"
      },
      "execution_count": 60,
      "outputs": [
        {
          "output_type": "stream",
          "name": "stdout",
          "text": [
            "root\n",
            " |-- email: string (nullable = true)\n",
            " |-- email_Encoded: double (nullable = false)\n",
            " |-- Email_Details: vector (nullable = true)\n",
            "\n"
          ]
        }
      ]
    },
    {
      "cell_type": "code",
      "source": [
        "input_to_model = input_details.select('Email_Details')\n",
        "input_to_model.printSchema()"
      ],
      "metadata": {
        "colab": {
          "base_uri": "https://localhost:8080/"
        },
        "id": "7tQSQM6iYvOl",
        "outputId": "ce377782-db79-4062-a676-5fe44cfca5c2"
      },
      "execution_count": 62,
      "outputs": [
        {
          "output_type": "stream",
          "name": "stdout",
          "text": [
            "root\n",
            " |-- Email_Details: vector (nullable = true)\n",
            "\n"
          ]
        }
      ]
    },
    {
      "cell_type": "code",
      "source": [
        "lr1_predictions = lr_model.transform(input_to_model)"
      ],
      "metadata": {
        "id": "MNDCT4L9M9hm"
      },
      "execution_count": 63,
      "outputs": []
    }
  ]
}